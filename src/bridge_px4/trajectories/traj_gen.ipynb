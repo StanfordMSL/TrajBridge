{
 "cells": [
  {
   "cell_type": "code",
   "execution_count": 1,
   "metadata": {},
   "outputs": [],
   "source": [
    "# Turn on autoreload so code changes are automatically added.\n",
    "# %load_ext autoreload\n",
    "%reload_ext autoreload\n",
    "%autoreload 2\n",
    "# %matplotlib inline\n",
    "%matplotlib widget"
   ]
  },
  {
   "cell_type": "code",
   "execution_count": null,
   "metadata": {},
   "outputs": [],
   "source": [
    "# Imports\n",
    "import numpy as np\n",
    "import visualizers as viz\n",
    "import util as ut\n",
    "from scipy.spatial.transform import Rotation"
   ]
  },
  {
   "cell_type": "code",
   "execution_count": null,
   "metadata": {},
   "outputs": [],
   "source": [
    "# Variable Params\n",
    "tf = 10.0                                   # final time (per trajectory)\n",
    "zA = 10.0                                    # altitude for ALL points\n",
    "xt = 1.0                                    # furthest x point (the tip)\n",
    "z0 = 1.0                                    # nearest z point\n",
    "z1 = 1.5                                    # furthest z point (the tip)\n",
    "qA = np.array([1.00, 0.00, 0.00, 0.00])     # orientation for ALL points\n",
    "psi_off = -(3./4.)*np.pi                           # Yaw offset\n",
    "d_off = 5                                   # distance offset (l2-norm from target)\n",
    "\n",
    "# Fixed Params\n",
    "hz = 20        "
   ]
  },
  {
   "cell_type": "code",
   "execution_count": null,
   "metadata": {},
   "outputs": [],
   "source": [
    "# Line =======================================\n",
    "name = \"line\"\n",
    "\n",
    "# Generate Trajectory\n",
    "N = int(tf*hz+1)\n",
    "Nhf = ((N-1)//2)\n",
    "T = np.linspace(0.0,tf,N)\n",
    "\n",
    "x1 = np.linspace(0,xt,Nhf+1)\n",
    "x2 = np.flip(x1)\n",
    "\n",
    "X = np.zeros((13,N))\n",
    "X[0,:] = np.hstack((x1,x2[1:]))\n",
    "X[2,:] = zA\n",
    "X[6:10,:] = qA.reshape((4,1))\n"
   ]
  },
  {
   "cell_type": "code",
   "execution_count": null,
   "metadata": {},
   "outputs": [],
   "source": [
    "# # Climb =======================================\n",
    "# name = \"climb\"\n",
    "\n",
    "# # Generate Trajectory\n",
    "# N = int(tf*hz+1)\n",
    "# Nhf = ((N-1)//2)\n",
    "# T = np.linspace(0.0,tf,N)\n",
    "\n",
    "# z1 = np.linspace(z0,z1,Nhf+1)\n",
    "# z2 = np.flip(z1)\n",
    "\n",
    "# X = np.zeros((13,N))\n",
    "# X[2,:] = np.hstack((z1,z2[1:]))\n",
    "# X[6:10,:] = qA.reshape((4,1))"
   ]
  },
  {
   "cell_type": "code",
   "execution_count": null,
   "metadata": {},
   "outputs": [],
   "source": [
    "# # Selfie =======================================\n",
    "# name = \"selfie\"\n",
    "\n",
    "# # Useful Stuff\n",
    "# tw = np.array([0.00,0.00,1.00])\n",
    "# c0 = np.array([0.00,0.00,0.00]).reshape((3,1))\n",
    "# c1 = np.array([0.00,0.00,0.00,1.00])\n",
    "# N = int(tf*hz+1)\n",
    "# Nhf = ((N-1)//2)\n",
    "\n",
    "# # Outputs\n",
    "# T = np.linspace(0.0,tf,N)\n",
    "# X = np.zeros((13,N))\n",
    "\n",
    "# # Generate Position\n",
    "# x1 = np.linspace(0,xt,Nhf+1)\n",
    "# x2 = np.flip(x1)\n",
    "\n",
    "# pos = np.zeros((3,N))\n",
    "# pos[0,:] = np.hstack((x1,x2[1:]))\n",
    "# pos[2,:] = zA\n",
    "\n",
    "# # Generate Yaw\n",
    "# x2d = pos[:2, :]\n",
    "# x_off = xt/2\n",
    "# y_off = -np.sqrt(d_off**2-x_off**2)\n",
    "# p = np.array([x_off, y_off]).reshape(2, 1)\n",
    "\n",
    "# d = p - x2d\n",
    "# yaw = np.arctan2(d[1, :], d[0, :])\n",
    "\n",
    "# # Account for Global Yaw Transform\n",
    "# R_off = Rotation.from_euler(\"z\", psi_off).as_matrix()\n",
    "# H_off = np.vstack((np.hstack((R_off,c0)),c1))\n",
    "\n",
    "# for idx, psi in enumerate(yaw):\n",
    "#     xc = np.array([ np.cos(psi), np.sin(psi), 0.0 ])\n",
    "#     yc = np.array([-np.sin(psi), np.cos(psi), 0.0 ])\n",
    "\n",
    "#     xb = ut.cross(yc,tw)/np.linalg.norm(ut.cross(yc,tw))\n",
    "#     yb = ut.cross(tw,xb)/np.linalg.norm(ut.cross(tw,xb))\n",
    "#     zb = ut.cross(xb,yb)\n",
    "\n",
    "#     Rb = np.hstack((xb.reshape(3,1), yb.reshape(3,1), zb.reshape(3,1)))\n",
    "#     Hb = np.vstack((np.hstack((Rb,pos[:,idx].reshape((3,1)))),c1))\n",
    "\n",
    "#     Ho = H_off@Hb\n",
    "#     xo = Ho[0:3,3]\n",
    "#     qo = ut.rotm2quat(Ho[0:3,0:3])\n",
    "\n",
    "#     X[0:3,idx] = xo\n",
    "#     X[6:10,idx] = qo\n"
   ]
  },
  {
   "cell_type": "code",
   "execution_count": null,
   "metadata": {},
   "outputs": [],
   "source": [
    "# Visualize\n",
    "viz.trajviz([X],step=5)\n",
    "# viz.trajanimate(X,X)"
   ]
  },
  {
   "cell_type": "code",
   "execution_count": null,
   "metadata": {},
   "outputs": [],
   "source": [
    "traj = np.vstack((T,X))\n",
    "np.savetxt(name+\".csv\", traj, delimiter=\",\")\n"
   ]
  }
 ],
 "metadata": {
  "kernelspec": {
   "display_name": "Julia 1.7.3",
   "language": "julia",
   "name": "julia-1.7"
  },
  "language_info": {
   "file_extension": ".jl",
   "mimetype": "application/julia",
   "name": "julia",
   "version": "1.7.3"
  },
  "orig_nbformat": 4
 },
 "nbformat": 4,
 "nbformat_minor": 2
}
